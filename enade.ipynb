{
 "cells": [
  {
   "cell_type": "code",
   "execution_count": 1,
   "metadata": {},
   "outputs": [],
   "source": [
    "import pandas as pd\n",
    "import requests\n",
    "from bs4 import BeautifulSoup\n",
    "import os\n",
    "import zipfile"
   ]
  },
  {
   "cell_type": "code",
   "execution_count": 2,
   "metadata": {},
   "outputs": [],
   "source": [
    "url = 'https://www.gov.br/inep/pt-br/acesso-a-informacao/dados-abertos/microdados/enade'\n",
    "response = requests.get(url)"
   ]
  },
  {
   "cell_type": "code",
   "execution_count": 3,
   "metadata": {},
   "outputs": [],
   "source": [
    "soup = BeautifulSoup(response.text, \"html.parser\")\n",
    "content_core = soup.find(id=\"content-core\")\n",
    "links = content_core.find_all(\"a\")\n",
    "hrefs = [link.get(\"href\") for link in links if link.get(\"href\")]"
   ]
  },
  {
   "cell_type": "markdown",
   "metadata": {},
   "source": [
    "###### Stream=True divide os dados(chunk) para aumentar a eficiência e auxiliar a memória\n",
    "###### iter_content é usado para binários(videos,imagens,zip)\n",
    "###### iter_lines é usaod para arquivos de texto(csv,log)\n"
   ]
  },
  {
   "cell_type": "code",
   "execution_count": null,
   "metadata": {},
   "outputs": [],
   "source": [
    "def setup_folders():\n",
    "    download_folder = \"downloads\"\n",
    "    extract_folder = \"extracted_files\"\n",
    "    os.makedirs(download_folder, exist_ok=True)\n",
    "    os.makedirs(extract_folder, exist_ok=True)\n",
    "    return download_folder, extract_folder\n",
    "\n",
    "download_folder, extract_folder = setup_folders()\n"
   ]
  },
  {
   "cell_type": "code",
   "execution_count": 17,
   "metadata": {},
   "outputs": [],
   "source": [
    "def baixar_zip(url):    \n",
    "    \n",
    "    try:\n",
    "        filename = os.path.join(download_folder, os.path.basename(url))  \n",
    "        response = requests.get(url, stream=True, timeout=30) \n",
    "\n",
    "        if response.status_code == 200:  #code status\n",
    "            with open(filename, \"wb\") as f:\n",
    "                for chunk in response.iter_content(chunk_size=1024): \n",
    "                    f.write(chunk)\n",
    "            print(f\"Download concluído: {filename}\")\n",
    "        else:\n",
    "            print(f\"Erro ao baixar {url} (Status Code: {response.status_code})\")\n",
    "\n",
    "    except requests.exceptions.RequestException as e: \n",
    "        print(f\" Erro ao baixar {url}: {e}\")\n",
    "  "
   ]
  },
  {
   "cell_type": "code",
   "execution_count": 24,
   "metadata": {},
   "outputs": [],
   "source": [
    "def extrair_zip(filename, extract_folder):\n",
    "    try:\n",
    "        if not os.path.exists(filename):\n",
    "            raise FileNotFoundError(f\"Arquivo {filename} não encontrado.\")\n",
    "        \n",
    "        with zipfile.ZipFile(filename, \"r\") as zip_ref:\n",
    "            zip_ref.extractall(extract_folder)\n",
    "        print(f\"Extraído para: {extract_folder}\")\n",
    "\n",
    "    except zipfile.BadZipFile as e:\n",
    "        print(f\"Erro: {e}\")\n",
    "    except PermissionError:\n",
    "        print(f\"Erro: Permissão negada para extrair arquivos em {extract_folder}.\")\n",
    "    except Exception as e:\n",
    "        print(f\"Erro inesperado ao extrair {filename}: {e}\")\n",
    "            "
   ]
  },
  {
   "cell_type": "code",
   "execution_count": null,
   "metadata": {},
   "outputs": [
    {
     "name": "stdout",
     "output_type": "stream",
     "text": [
      "Erro: File is not a zip file\n",
      "Extraído para: extracted_files\n",
      "Extraído para: extracted_files\n",
      "Extraído para: extracted_files\n",
      "Extraído para: extracted_files\n",
      "Extraído para: extracted_files\n",
      "Extraído para: extracted_files\n",
      "Extraído para: extracted_files\n",
      "Extraído para: extracted_files\n",
      "Extraído para: extracted_files\n",
      "Extraído para: extracted_files\n",
      "Extraído para: extracted_files\n",
      "Erro: File is not a zip file\n",
      "Erro: File is not a zip file\n",
      "Erro: File is not a zip file\n",
      "Erro: File is not a zip file\n",
      "Erro: File is not a zip file\n",
      "Erro: File is not a zip file\n"
     ]
    }
   ],
   "source": [
    "for href in hrefs: \n",
    "    filename = os.path.join(download_folder, os.path.basename(href)) \n",
    "    extrair_zip(filename, extract_folder)  #de 2004 a 2009 não são zip, são 7-zip. em 2022 não é zip é rar"
   ]
  },
  {
   "cell_type": "code",
   "execution_count": 12,
   "metadata": {},
   "outputs": [
    {
     "name": "stdout",
     "output_type": "stream",
     "text": [
      "Download concluído: downloads\\microdados_enade_2022_LGPD.zip\n",
      "Download concluído: downloads\\microdados_enade_2021.zip\n",
      "Download concluído: downloads\\microdados_enade_2019_LGPD.zip\n",
      "Download concluído: downloads\\microdados_enade_2018_LGPD.zip\n",
      "Download concluído: downloads\\microdados_enade_2017_LGPD.zip\n",
      "Download concluído: downloads\\microdados_enade_2016_LGPD.zip\n",
      "Download concluído: downloads\\microdados_enade_2015_LGPD.zip\n",
      "Download concluído: downloads\\microdados_enade_2014_LGPD.zip\n",
      "Download concluído: downloads\\microdados_enade_2013_LGPD.zip\n",
      "Download concluído: downloads\\microdados_enade_2012_LGPD.zip\n",
      "Download concluído: downloads\\microdados_enade_2011.zip\n",
      "Download concluído: downloads\\microdados_enade_2010.zip\n",
      "Download concluído: downloads\\microdados_enade_2009.zip\n",
      "Download concluído: downloads\\microdados_enade_2008.zip\n",
      "Download concluído: downloads\\microdados_enade_2007.zip\n",
      "Download concluído: downloads\\microdados_enade_2006.zip\n",
      "Download concluído: downloads\\microdados_enade_2005.zip\n",
      "Download concluído: downloads\\microdados_enade_2004.zip\n"
     ]
    }
   ],
   "source": [
    "for href in hrefs:  \n",
    "    baixar_zip(href)"
   ]
  }
 ],
 "metadata": {
  "kernelspec": {
   "display_name": "Python 3",
   "language": "python",
   "name": "python3"
  },
  "language_info": {
   "codemirror_mode": {
    "name": "ipython",
    "version": 3
   },
   "file_extension": ".py",
   "mimetype": "text/x-python",
   "name": "python",
   "nbconvert_exporter": "python",
   "pygments_lexer": "ipython3",
   "version": "3.13.1"
  }
 },
 "nbformat": 4,
 "nbformat_minor": 2
}
